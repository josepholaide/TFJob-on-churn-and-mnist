{
  "nbformat": 4,
  "nbformat_minor": 0,
  "metadata": {
    "colab": {
      "name": "tfjob.ipynb",
      "provenance": [],
      "collapsed_sections": [],
      "toc_visible": true,
      "include_colab_link": true
    },
    "kernelspec": {
      "display_name": "Python 3",
      "language": "python",
      "name": "python3"
    },
    "language_info": {
      "codemirror_mode": {
        "name": "ipython",
        "version": 3
      },
      "file_extension": ".py",
      "mimetype": "text/x-python",
      "name": "python",
      "nbconvert_exporter": "python",
      "pygments_lexer": "ipython3",
      "version": "3.6.9"
    },
    "widgets": {
      "application/vnd.jupyter.widget-state+json": {
        "79475b1c3df54f45bcc4bf1e91d750ec": {
          "model_module": "@jupyter-widgets/controls",
          "model_name": "HBoxModel",
          "state": {
            "_view_name": "HBoxView",
            "_dom_classes": [],
            "_model_name": "HBoxModel",
            "_view_module": "@jupyter-widgets/controls",
            "_model_module_version": "1.5.0",
            "_view_count": null,
            "_view_module_version": "1.5.0",
            "box_style": "",
            "layout": "IPY_MODEL_87df4e12ec174536a6d452127127b0d0",
            "_model_module": "@jupyter-widgets/controls",
            "children": [
              "IPY_MODEL_d8f5228131374f0a91a4a143d669e644",
              "IPY_MODEL_1d5205fdb5924ec7ba2b0fb0ca6811cb"
            ]
          }
        },
        "87df4e12ec174536a6d452127127b0d0": {
          "model_module": "@jupyter-widgets/base",
          "model_name": "LayoutModel",
          "state": {
            "_view_name": "LayoutView",
            "grid_template_rows": null,
            "right": null,
            "justify_content": null,
            "_view_module": "@jupyter-widgets/base",
            "overflow": null,
            "_model_module_version": "1.2.0",
            "_view_count": null,
            "flex_flow": null,
            "width": null,
            "min_width": null,
            "border": null,
            "align_items": null,
            "bottom": null,
            "_model_module": "@jupyter-widgets/base",
            "top": null,
            "grid_column": null,
            "overflow_y": null,
            "overflow_x": null,
            "grid_auto_flow": null,
            "grid_area": null,
            "grid_template_columns": null,
            "flex": null,
            "_model_name": "LayoutModel",
            "justify_items": null,
            "grid_row": null,
            "max_height": null,
            "align_content": null,
            "visibility": null,
            "align_self": null,
            "height": null,
            "min_height": null,
            "padding": null,
            "grid_auto_rows": null,
            "grid_gap": null,
            "max_width": null,
            "order": null,
            "_view_module_version": "1.2.0",
            "grid_template_areas": null,
            "object_position": null,
            "object_fit": null,
            "grid_auto_columns": null,
            "margin": null,
            "display": null,
            "left": null
          }
        },
        "d8f5228131374f0a91a4a143d669e644": {
          "model_module": "@jupyter-widgets/controls",
          "model_name": "FloatProgressModel",
          "state": {
            "_view_name": "ProgressView",
            "style": "IPY_MODEL_31d17370c6a843db898593b82aefce43",
            "_dom_classes": [],
            "description": "Dl Completed...: 100%",
            "_model_name": "FloatProgressModel",
            "bar_style": "success",
            "max": 4,
            "_view_module": "@jupyter-widgets/controls",
            "_model_module_version": "1.5.0",
            "value": 4,
            "_view_count": null,
            "_view_module_version": "1.5.0",
            "orientation": "horizontal",
            "min": 0,
            "description_tooltip": null,
            "_model_module": "@jupyter-widgets/controls",
            "layout": "IPY_MODEL_5f31ad5660f84414babb6c6ecb869aae"
          }
        },
        "1d5205fdb5924ec7ba2b0fb0ca6811cb": {
          "model_module": "@jupyter-widgets/controls",
          "model_name": "HTMLModel",
          "state": {
            "_view_name": "HTMLView",
            "style": "IPY_MODEL_9fbbac7ecea94c5a8e607ad9e3754644",
            "_dom_classes": [],
            "description": "",
            "_model_name": "HTMLModel",
            "placeholder": "​",
            "_view_module": "@jupyter-widgets/controls",
            "_model_module_version": "1.5.0",
            "value": " 4/4 [00:01&lt;00:00,  2.56 file/s]",
            "_view_count": null,
            "_view_module_version": "1.5.0",
            "description_tooltip": null,
            "_model_module": "@jupyter-widgets/controls",
            "layout": "IPY_MODEL_6b31bfb8f1174a3fa9f0f229655998ba"
          }
        },
        "31d17370c6a843db898593b82aefce43": {
          "model_module": "@jupyter-widgets/controls",
          "model_name": "ProgressStyleModel",
          "state": {
            "_view_name": "StyleView",
            "_model_name": "ProgressStyleModel",
            "description_width": "initial",
            "_view_module": "@jupyter-widgets/base",
            "_model_module_version": "1.5.0",
            "_view_count": null,
            "_view_module_version": "1.2.0",
            "bar_color": null,
            "_model_module": "@jupyter-widgets/controls"
          }
        },
        "5f31ad5660f84414babb6c6ecb869aae": {
          "model_module": "@jupyter-widgets/base",
          "model_name": "LayoutModel",
          "state": {
            "_view_name": "LayoutView",
            "grid_template_rows": null,
            "right": null,
            "justify_content": null,
            "_view_module": "@jupyter-widgets/base",
            "overflow": null,
            "_model_module_version": "1.2.0",
            "_view_count": null,
            "flex_flow": null,
            "width": null,
            "min_width": null,
            "border": null,
            "align_items": null,
            "bottom": null,
            "_model_module": "@jupyter-widgets/base",
            "top": null,
            "grid_column": null,
            "overflow_y": null,
            "overflow_x": null,
            "grid_auto_flow": null,
            "grid_area": null,
            "grid_template_columns": null,
            "flex": null,
            "_model_name": "LayoutModel",
            "justify_items": null,
            "grid_row": null,
            "max_height": null,
            "align_content": null,
            "visibility": null,
            "align_self": null,
            "height": null,
            "min_height": null,
            "padding": null,
            "grid_auto_rows": null,
            "grid_gap": null,
            "max_width": null,
            "order": null,
            "_view_module_version": "1.2.0",
            "grid_template_areas": null,
            "object_position": null,
            "object_fit": null,
            "grid_auto_columns": null,
            "margin": null,
            "display": null,
            "left": null
          }
        },
        "9fbbac7ecea94c5a8e607ad9e3754644": {
          "model_module": "@jupyter-widgets/controls",
          "model_name": "DescriptionStyleModel",
          "state": {
            "_view_name": "StyleView",
            "_model_name": "DescriptionStyleModel",
            "description_width": "",
            "_view_module": "@jupyter-widgets/base",
            "_model_module_version": "1.5.0",
            "_view_count": null,
            "_view_module_version": "1.2.0",
            "_model_module": "@jupyter-widgets/controls"
          }
        },
        "6b31bfb8f1174a3fa9f0f229655998ba": {
          "model_module": "@jupyter-widgets/base",
          "model_name": "LayoutModel",
          "state": {
            "_view_name": "LayoutView",
            "grid_template_rows": null,
            "right": null,
            "justify_content": null,
            "_view_module": "@jupyter-widgets/base",
            "overflow": null,
            "_model_module_version": "1.2.0",
            "_view_count": null,
            "flex_flow": null,
            "width": null,
            "min_width": null,
            "border": null,
            "align_items": null,
            "bottom": null,
            "_model_module": "@jupyter-widgets/base",
            "top": null,
            "grid_column": null,
            "overflow_y": null,
            "overflow_x": null,
            "grid_auto_flow": null,
            "grid_area": null,
            "grid_template_columns": null,
            "flex": null,
            "_model_name": "LayoutModel",
            "justify_items": null,
            "grid_row": null,
            "max_height": null,
            "align_content": null,
            "visibility": null,
            "align_self": null,
            "height": null,
            "min_height": null,
            "padding": null,
            "grid_auto_rows": null,
            "grid_gap": null,
            "max_width": null,
            "order": null,
            "_view_module_version": "1.2.0",
            "grid_template_areas": null,
            "object_position": null,
            "object_fit": null,
            "grid_auto_columns": null,
            "margin": null,
            "display": null,
            "left": null
          }
        }
      }
    }
  },
  "cells": [
    {
      "cell_type": "markdown",
      "metadata": {
        "id": "view-in-github",
        "colab_type": "text"
      },
      "source": [
        "<a href=\"https://colab.research.google.com/github/Josepholaidepetro/tensorflow_job/blob/main/tfjob.ipynb\" target=\"_parent\"><img src=\"https://colab.research.google.com/assets/colab-badge.svg\" alt=\"Open In Colab\"/></a>"
      ]
    },
    {
      "cell_type": "code",
      "metadata": {
        "id": "Kr9HhwtA28DV"
      },
      "source": [
        "JOB_FILE = \"tfjob.py\"\n",
        "TFJOB_YAML_FILE = \"tfjob.yaml\""
      ],
      "execution_count": 1,
      "outputs": []
    },
    {
      "cell_type": "code",
      "metadata": {
        "id": "upt2YAsx_Ly8"
      },
      "source": [
        "!pip install tensorflow_datasets --user"
      ],
      "execution_count": null,
      "outputs": []
    },
    {
      "cell_type": "code",
      "metadata": {
        "id": "cL5Kqj-S_Ly9"
      },
      "source": [
        "!pip install --upgrade --user nbconvert"
      ],
      "execution_count": null,
      "outputs": []
    },
    {
      "cell_type": "markdown",
      "metadata": {
        "id": "IoC76Vf_4ggR"
      },
      "source": [
        "**PYTHON SCRIPT**"
      ]
    },
    {
      "cell_type": "code",
      "metadata": {
        "colab": {
          "base_uri": "https://localhost:8080/"
        },
        "id": "uBRst6tJh2T8",
        "outputId": "1dff6fd7-0d85-4563-b289-054d2d746094"
      },
      "source": [
        "%%writefile $JOB_FILE\n",
        "import argparse\n",
        "import logging\n",
        "import json\n",
        "import os\n",
        "import warnings\n",
        "warnings.filterwarnings(\"ignore\", category=DeprecationWarning)\n",
        "\n",
        "import tensorflow_datasets as tfds\n",
        "import tensorflow as tf\n",
        "from tensorflow import keras\n",
        "from tensorflow.keras import layers, models\n",
        "from tensorflow.keras.optimizers import SGD, Adam, RMSprop\n",
        "\n",
        "logging.getLogger().setLevel(logging.INFO)\n",
        "\n",
        "\n",
        "\n",
        "\n",
        "def make_datasets_unbatched():\n",
        "  BUFFER_SIZE = 10000\n",
        "\n",
        "  datasets, ds_info = tfds.load(name=\"mnist\", download=True, with_info=True, as_supervised=True)\n",
        "  mnist_train, mnist_test = datasets[\"train\"], datasets[\"test\"]\n",
        "\n",
        "  def scale(image, label):\n",
        "      image = tf.cast(image, tf.float32) / 255\n",
        "      return image, label\n",
        "\n",
        "  train_dataset = mnist_train.map(scale).cache().shuffle(BUFFER_SIZE).repeat()\n",
        "  test_dataset = mnist_test.map(scale)\n",
        "\n",
        "  return train_dataset, test_dataset\n",
        "\n",
        "\n",
        "def model(args):\n",
        "  model = models.Sequential()\n",
        "  model.add(\n",
        "      layers.Conv2D(64, (3, 3), activation='relu', input_shape=(28, 28, 1)))\n",
        "  model.add(layers.MaxPooling2D((2, 2)))\n",
        "  model.add(layers.Conv2D(128, (3, 3), activation='relu'))\n",
        "  model.add(layers.Flatten())\n",
        "  model.add(layers.Dense(256, activation='relu'))\n",
        "  model.add(layers.Dense(10, activation='softmax'))\n",
        "\n",
        "  model.summary()\n",
        "  opt = args.optimizer\n",
        "  model.compile(optimizer=opt,\n",
        "                loss='sparse_categorical_crossentropy',\n",
        "                metrics=['accuracy'])\n",
        "  tf.keras.backend.set_value(model.optimizer.learning_rate, args.learning_rate)\n",
        "  return model\n",
        "\n",
        "\n",
        "def main(args):\n",
        "\n",
        "  # MultiWorkerMirroredStrategy creates copies of all variables in the model's\n",
        "  # layers on each device across all workers\n",
        "  # if your GPUs don't support NCCL, replace \"communication\" with another\n",
        "  strategy = tf.distribute.experimental.MultiWorkerMirroredStrategy(\n",
        "      communication=tf.distribute.experimental.CollectiveCommunication.AUTO)\n",
        "  logging.debug(f\"num_replicas_in_sync: {strategy.num_replicas_in_sync}\")\n",
        "  BATCH_SIZE_PER_REPLICA = args.batch_size\n",
        "  BATCH_SIZE = BATCH_SIZE_PER_REPLICA * strategy.num_replicas_in_sync\n",
        "\n",
        "  train_dataset, test_dataset = make_datasets_unbatched()\n",
        "  train_dataset = train_dataset.batch(batch_size=BATCH_SIZE)\n",
        "  test_dataset = test_dataset.batch(batch_size=BATCH_SIZE)\n",
        "\n",
        "  options = tf.data.Options()\n",
        "  options.experimental_distribute.auto_shard_policy = \\\n",
        "        tf.data.experimental.AutoShardPolicy.DATA\n",
        "\n",
        "  train_datasets_sharded  = train_dataset.with_options(options)\n",
        "  test_dataset_sharded = test_dataset.with_options(options)\n",
        "\n",
        "  with strategy.scope():\n",
        "    # Model building/compiling need to be within `strategy.scope()`.\n",
        "    multi_worker_model = model(args)\n",
        "\n",
        "  # Callback for printing the LR at the end of each epoch.\n",
        "  class PrintLR(tf.keras.callbacks.Callback):\n",
        "\n",
        "    def on_epoch_end(self, epoch, logs=None): #pylint: disable=no-self-use\n",
        "      print('\\nLearning rate for epoch {} is {}'.format(\n",
        "        epoch + 1, multi_worker_model.optimizer.lr.numpy()))\n",
        "\n",
        "  callbacks = [\n",
        "      tf.keras.callbacks.TensorBoard(log_dir='./logs'),\n",
        "      PrintLR()\n",
        "   ]\n",
        "\n",
        "  # Keras' `model.fit()` trains the model with specified number of epochs and\n",
        "  # number of steps per epoch. Note that the numbers here are for demonstration\n",
        "  # purposes only and may not sufficiently produce a model with good quality.\n",
        "  multi_worker_model.fit(train_datasets_sharded,\n",
        "                         epochs=10,\n",
        "                         steps_per_epoch=10,\n",
        "                         callbacks=callbacks)\n",
        "  \n",
        "  eval_loss, eval_acc = multi_worker_model.evaluate(test_dataset_sharded, \n",
        "                                                    verbose=0, steps=10)\n",
        "\n",
        "  # Log metrics for Katib\n",
        "  logging.info(\"loss={:.4f}\".format(eval_loss))\n",
        "  logging.info(\"accuracy={:.4f}\".format(eval_acc))\n",
        "\n",
        "\n",
        "if __name__ == '__main__':\n",
        "  parser = argparse.ArgumentParser()\n",
        "  parser.add_argument(\"--batch_size\",\n",
        "                      type=int,\n",
        "                      default=128,\n",
        "                      metavar=\"N\",\n",
        "                      help=\"Batch size for training (default: 128)\")\n",
        "  parser.add_argument(\"--learning_rate\", \n",
        "                      type=float,  \n",
        "                      default=0.001,\n",
        "                      metavar=\"N\",\n",
        "                      help='Initial learning rate')\n",
        "  parser.add_argument(\"--optimizer\", \n",
        "                      type=str, \n",
        "                      default='adam',\n",
        "                      metavar=\"N\",\n",
        "                      help='optimizer')\n",
        "\n",
        "  parsed_args, _ = parser.parse_known_args()\n",
        "  main(parsed_args)"
      ],
      "execution_count": 2,
      "outputs": [
        {
          "output_type": "stream",
          "text": [
            "Writing tfjob.py\n"
          ],
          "name": "stdout"
        }
      ]
    },
    {
      "cell_type": "code",
      "metadata": {
        "colab": {
          "base_uri": "https://localhost:8080/",
          "height": 1000,
          "referenced_widgets": [
            "79475b1c3df54f45bcc4bf1e91d750ec",
            "87df4e12ec174536a6d452127127b0d0",
            "d8f5228131374f0a91a4a143d669e644",
            "1d5205fdb5924ec7ba2b0fb0ca6811cb",
            "31d17370c6a843db898593b82aefce43",
            "5f31ad5660f84414babb6c6ecb869aae",
            "9fbbac7ecea94c5a8e607ad9e3754644",
            "6b31bfb8f1174a3fa9f0f229655998ba"
          ]
        },
        "id": "edy09zhShEzX",
        "outputId": "67bbbba7-527e-4a77-82d8-a81890719802"
      },
      "source": [
        "%run $JOB_FILE --optimizer 'adam'\n"
      ],
      "execution_count": 3,
      "outputs": [
        {
          "output_type": "stream",
          "text": [
            "WARNING:tensorflow:From /content/tfjob.py:60: _CollectiveAllReduceStrategyExperimental.__init__ (from tensorflow.python.distribute.collective_all_reduce_strategy) is deprecated and will be removed in a future version.\n",
            "Instructions for updating:\n",
            "use distribute.MultiWorkerMirroredStrategy instead\n",
            "INFO:tensorflow:Using MirroredStrategy with devices ('/device:CPU:0',)\n",
            "INFO:tensorflow:Single-worker MultiWorkerMirroredStrategy with local_devices = ('/device:CPU:0',), communication = CommunicationImplementation.AUTO\n"
          ],
          "name": "stdout"
        },
        {
          "output_type": "stream",
          "text": [
            "INFO:absl:Load pre-computed DatasetInfo (eg: splits, num examples,...) from GCS: mnist/3.0.1\n",
            "INFO:absl:Load dataset info from /tmp/tmpbn_96efxtfds\n",
            "INFO:absl:Field info.citation from disk and from code do not match. Keeping the one from code.\n",
            "INFO:absl:Generating dataset mnist (/root/tensorflow_datasets/mnist/3.0.1)\n"
          ],
          "name": "stderr"
        },
        {
          "output_type": "stream",
          "text": [
            "\u001b[1mDownloading and preparing dataset mnist/3.0.1 (download: 11.06 MiB, generated: 21.00 MiB, total: 32.06 MiB) to /root/tensorflow_datasets/mnist/3.0.1...\u001b[0m\n"
          ],
          "name": "stdout"
        },
        {
          "output_type": "stream",
          "text": [
            "WARNING:absl:Dataset mnist is hosted on GCS. It will automatically be downloaded to your\n",
            "local data directory. If you'd instead prefer to read directly from our public\n",
            "GCS bucket (recommended if you're running on GCP), you can instead pass\n",
            "`try_gcs=True` to `tfds.load` or set `data_dir=gs://tfds-data/datasets`.\n",
            "\n"
          ],
          "name": "stderr"
        },
        {
          "output_type": "display_data",
          "data": {
            "application/vnd.jupyter.widget-view+json": {
              "model_id": "79475b1c3df54f45bcc4bf1e91d750ec",
              "version_minor": 0,
              "version_major": 2
            },
            "text/plain": [
              "HBox(children=(FloatProgress(value=0.0, description='Dl Completed...', max=4.0, style=ProgressStyle(descriptio…"
            ]
          },
          "metadata": {
            "tags": []
          }
        },
        {
          "output_type": "stream",
          "text": [
            "INFO:absl:Load dataset info from /root/tensorflow_datasets/mnist/3.0.1.incompleteKLO22H\n",
            "INFO:absl:Field info.citation from disk and from code do not match. Keeping the one from code.\n",
            "INFO:absl:Constructing tf.data.Dataset for split None, from /root/tensorflow_datasets/mnist/3.0.1\n"
          ],
          "name": "stderr"
        },
        {
          "output_type": "stream",
          "text": [
            "\n",
            "\n",
            "\u001b[1mDataset mnist downloaded and prepared to /root/tensorflow_datasets/mnist/3.0.1. Subsequent calls will reuse this data.\u001b[0m\n",
            "Model: \"sequential\"\n",
            "_________________________________________________________________\n",
            "Layer (type)                 Output Shape              Param #   \n",
            "=================================================================\n",
            "conv2d (Conv2D)              (None, 26, 26, 64)        640       \n",
            "_________________________________________________________________\n",
            "max_pooling2d (MaxPooling2D) (None, 13, 13, 64)        0         \n",
            "_________________________________________________________________\n",
            "conv2d_1 (Conv2D)            (None, 11, 11, 128)       73856     \n",
            "_________________________________________________________________\n",
            "flatten (Flatten)            (None, 15488)             0         \n",
            "_________________________________________________________________\n",
            "dense (Dense)                (None, 256)               3965184   \n",
            "_________________________________________________________________\n",
            "dense_1 (Dense)              (None, 10)                2570      \n",
            "=================================================================\n",
            "Total params: 4,042,250\n",
            "Trainable params: 4,042,250\n",
            "Non-trainable params: 0\n",
            "_________________________________________________________________\n",
            "Epoch 1/10\n",
            "10/10 [==============================] - 6s 283ms/step - loss: 1.7504 - accuracy: 0.4051\n",
            "\n",
            "Learning rate for epoch 1 is 0.0010000000474974513\n",
            "Epoch 2/10\n",
            "10/10 [==============================] - 3s 264ms/step - loss: 0.5521 - accuracy: 0.8293\n",
            "\n",
            "Learning rate for epoch 2 is 0.0010000000474974513\n",
            "Epoch 3/10\n",
            "10/10 [==============================] - 3s 273ms/step - loss: 0.4502 - accuracy: 0.8647\n",
            "\n",
            "Learning rate for epoch 3 is 0.0010000000474974513\n",
            "Epoch 4/10\n",
            "10/10 [==============================] - 3s 266ms/step - loss: 0.3453 - accuracy: 0.9094\n",
            "\n",
            "Learning rate for epoch 4 is 0.0010000000474974513\n",
            "Epoch 5/10\n",
            "10/10 [==============================] - 3s 266ms/step - loss: 0.2693 - accuracy: 0.9153\n",
            "\n",
            "Learning rate for epoch 5 is 0.0010000000474974513\n",
            "Epoch 6/10\n",
            "10/10 [==============================] - 3s 268ms/step - loss: 0.2420 - accuracy: 0.9306\n",
            "\n",
            "Learning rate for epoch 6 is 0.0010000000474974513\n",
            "Epoch 7/10\n",
            "10/10 [==============================] - 3s 266ms/step - loss: 0.1765 - accuracy: 0.9486\n",
            "\n",
            "Learning rate for epoch 7 is 0.0010000000474974513\n",
            "Epoch 8/10\n",
            "10/10 [==============================] - 3s 256ms/step - loss: 0.1814 - accuracy: 0.9445\n",
            "\n",
            "Learning rate for epoch 8 is 0.0010000000474974513\n",
            "Epoch 9/10\n",
            "10/10 [==============================] - 3s 268ms/step - loss: 0.1255 - accuracy: 0.9611\n",
            "\n",
            "Learning rate for epoch 9 is 0.0010000000474974513\n",
            "Epoch 10/10\n",
            "10/10 [==============================] - 3s 270ms/step - loss: 0.1155 - accuracy: 0.9550\n",
            "\n",
            "Learning rate for epoch 10 is 0.0010000000474974513\n"
          ],
          "name": "stdout"
        },
        {
          "output_type": "stream",
          "text": [
            "INFO:root:loss=0.0934\n",
            "INFO:root:accuracy=0.9688\n"
          ],
          "name": "stderr"
        }
      ]
    },
    {
      "cell_type": "markdown",
      "metadata": {
        "id": "aroDwyHw4XgG"
      },
      "source": [
        "# **YAML FILE**"
      ]
    },
    {
      "cell_type": "code",
      "metadata": {
        "colab": {
          "base_uri": "https://localhost:8080/"
        },
        "id": "4qKDSBnSxY6i",
        "outputId": "a9a89663-de24-46cb-cf15-6a47d9c644b8"
      },
      "source": [
        "%%writefile $TFJOB_YAML_FILE\n",
        "apiVersion: \"kubeflow.org/v1\"\n",
        "kind: \"TFJob\"\n",
        "metadata:\n",
        "  name: \"fmnist\"\n",
        "  namespace: demo01 # your-user-namespace\n",
        "spec:\n",
        "  cleanPodPolicy: None\n",
        "  tfReplicaSpecs:\n",
        "    Worker:\n",
        "      replicas: 3\n",
        "      restartPolicy: OnFailure\n",
        "      template:\n",
        "        metadata:\n",
        "          annotations:\n",
        "            sidecar.istio.io/inject: \"false\"\n",
        "        spec:\n",
        "          containers:\n",
        "          - name: tensorflow\n",
        "            image: mavencodev/tfjob:6.0\n",
        "            command:\n",
        "                - \"python\"\n",
        "                - \"/tfjob.py\"\n",
        "                - \"--batch_size=150\"\n",
        "                - \"--learning_rate=0.001\"\n",
        "                - \"--optimizer=adam\""
      ],
      "execution_count": null,
      "outputs": [
        {
          "output_type": "stream",
          "text": [
            "Overwriting tfjob.yaml\n"
          ],
          "name": "stdout"
        }
      ]
    },
    {
      "cell_type": "code",
      "metadata": {
        "id": "ekL7hn6q_LzF"
      },
      "source": [
        "import re\n",
        "\n",
        "from IPython.utils.capture import CapturedIO\n",
        "\n",
        "\n",
        "def get_resource(captured_io: CapturedIO) -> str:\n",
        "    \"\"\"\n",
        "    Gets a resource name from `kubectl apply -f <configuration.yaml>`.\n",
        "\n",
        "    :param str captured_io: Output captured by using `%%capture` cell magic\n",
        "    :return: Name of the Kubernetes resource\n",
        "    :rtype: str\n",
        "    :raises Exception: if the resource could not be created\n",
        "    \"\"\"\n",
        "    out = captured_io.stdout\n",
        "    matches = re.search(r\"^(.+)\\s+created\", out)\n",
        "    if matches is not None:\n",
        "        return matches.group(1)\n",
        "    else:\n",
        "        raise Exception(f\"Cannot get resource as its creation failed: {out}. It may already exist.\")\n"
      ],
      "execution_count": null,
      "outputs": []
    },
    {
      "cell_type": "code",
      "metadata": {
        "id": "j_4iAQ7k_LzG"
      },
      "source": [
        "%%capture tf_output --no-stderr\n",
        "! kubectl create -f $TFJOB_YAML_FILE"
      ],
      "execution_count": null,
      "outputs": []
    },
    {
      "cell_type": "code",
      "metadata": {
        "id": "t4EaEfxe_LzH"
      },
      "source": [
        "TF_JOB = get_resource(tf_output)"
      ],
      "execution_count": null,
      "outputs": []
    },
    {
      "cell_type": "code",
      "metadata": {
        "id": "iGj8LG9K_LzI",
        "outputId": "a2af43c9-e49a-472a-8661-6438b2e1dae3"
      },
      "source": [
        "! kubectl describe $TF_JOB"
      ],
      "execution_count": null,
      "outputs": [
        {
          "output_type": "stream",
          "text": [
            "Name:         fmnist\r\n",
            "Namespace:    demo01\r\n",
            "Labels:       <none>\r\n",
            "Annotations:  <none>\r\n",
            "API Version:  kubeflow.org/v1\r\n",
            "Kind:         TFJob\r\n",
            "Metadata:\r\n",
            "  Creation Timestamp:  2021-03-20T23:07:51Z\r\n",
            "  Generation:          1\r\n",
            "  Managed Fields:\r\n",
            "    API Version:  kubeflow.org/v1\r\n",
            "    Fields Type:  FieldsV1\r\n",
            "    fieldsV1:\r\n",
            "      f:spec:\r\n",
            "        .:\r\n",
            "        f:cleanPodPolicy:\r\n",
            "        f:tfReplicaSpecs:\r\n",
            "          .:\r\n",
            "          f:Worker:\r\n",
            "            .:\r\n",
            "            f:replicas:\r\n",
            "            f:restartPolicy:\r\n",
            "            f:template:\r\n",
            "              .:\r\n",
            "              f:metadata:\r\n",
            "                .:\r\n",
            "                f:annotations:\r\n",
            "                  .:\r\n",
            "                  f:sidecar.istio.io/inject:\r\n",
            "              f:spec:\r\n",
            "                .:\r\n",
            "                f:containers:\r\n",
            "    Manager:         kubectl\r\n",
            "    Operation:       Update\r\n",
            "    Time:            2021-03-20T23:07:51Z\r\n",
            "  Resource Version:  2920908\r\n",
            "  Self Link:         /apis/kubeflow.org/v1/namespaces/demo01/tfjobs/fmnist\r\n",
            "  UID:               902836b8-7b93-4f9d-a699-92dc09dad449\r\n",
            "Spec:\r\n",
            "  Clean Pod Policy:  None\r\n",
            "  Tf Replica Specs:\r\n",
            "    Worker:\r\n",
            "      Replicas:        3\r\n",
            "      Restart Policy:  OnFailure\r\n",
            "      Template:\r\n",
            "        Metadata:\r\n",
            "          Annotations:\r\n",
            "            sidecar.istio.io/inject:  false\r\n",
            "        Spec:\r\n",
            "          Containers:\r\n",
            "            Command:\r\n",
            "              python\r\n",
            "              /tfjob.py\r\n",
            "              --learning_rate=0.001\r\n",
            "              --optimizer=adam\r\n",
            "            Image:  mavencodev/tfjob:6.0\r\n",
            "            Name:   tensorflow\r\n",
            "Events:\r\n",
            "  Type     Reason           Age   From         Message\r\n",
            "  ----     ------           ----  ----         -------\r\n",
            "  Warning  FailedCreatePod  3s    tf-operator  Error creating: object is being deleted: pods \"fmnist-worker-0\" already exists\r\n"
          ],
          "name": "stdout"
        }
      ]
    },
    {
      "cell_type": "code",
      "metadata": {
        "id": "KrYSYVhy_LzJ",
        "outputId": "e61038c1-993f-4497-cfcc-86f7d1b76225"
      },
      "source": [
        "! kubectl get pods -l job-name=fmnist"
      ],
      "execution_count": null,
      "outputs": [
        {
          "output_type": "stream",
          "text": [
            "NAME              READY   STATUS        RESTARTS   AGE\r\n",
            "fmnist-worker-0   1/1     Terminating   0          10m\r\n",
            "fmnist-worker-1   1/1     Terminating   0          10m\r\n"
          ],
          "name": "stdout"
        }
      ]
    },
    {
      "cell_type": "code",
      "metadata": {
        "id": "62K_8e0h_LzL",
        "outputId": "75dba6a0-e822-4210-f86b-93337df42e66"
      },
      "source": [
        "!kubectl -n demo01 logs fmnist-worker-1"
      ],
      "execution_count": null,
      "outputs": [
        {
          "output_type": "stream",
          "text": [
            "2021-03-20 22:57:25.128895: W tensorflow/stream_executor/platform/default/dso_loader.cc:59] Could not load dynamic library 'libcudart.so.10.1'; dlerror: libcudart.so.10.1: cannot open shared object file: No such file or directory\r\n",
            "2021-03-20 22:57:25.128932: I tensorflow/stream_executor/cuda/cudart_stub.cc:29] Ignore above cudart dlerror if you do not have a GPU set up on your machine.\r\n",
            "2021-03-20 22:57:26.787203: W tensorflow/stream_executor/platform/default/dso_loader.cc:59] Could not load dynamic library 'libcuda.so.1'; dlerror: libcuda.so.1: cannot open shared object file: No such file or directory\r\n",
            "2021-03-20 22:57:26.787244: W tensorflow/stream_executor/cuda/cuda_driver.cc:312] failed call to cuInit: UNKNOWN ERROR (303)\r\n",
            "2021-03-20 22:57:26.787269: I tensorflow/stream_executor/cuda/cuda_diagnostics.cc:156] kernel driver does not appear to be running on this host (fmnist-worker-1): /proc/driver/nvidia/version does not exist\r\n",
            "2021-03-20 22:57:26.787549: I tensorflow/core/platform/cpu_feature_guard.cc:142] This TensorFlow binary is optimized with oneAPI Deep Neural Network Library (oneDNN)to use the following CPU instructions in performance-critical operations:  AVX2 FMA\r\n",
            "To enable them in other operations, rebuild TensorFlow with the appropriate compiler flags.\r\n",
            "2021-03-20 22:57:26.794870: I tensorflow/core/platform/profile_utils/cpu_utils.cc:104] CPU Frequency: 2300055000 Hz\r\n",
            "2021-03-20 22:57:26.795312: I tensorflow/compiler/xla/service/service.cc:168] XLA service 0x58f3d00 initialized for platform Host (this does not guarantee that XLA will be used). Devices:\r\n",
            "2021-03-20 22:57:26.795341: I tensorflow/compiler/xla/service/service.cc:176]   StreamExecutor device (0): Host, Default Version\r\n",
            "2021-03-20 22:57:26.803565: I tensorflow/core/distributed_runtime/rpc/grpc_channel.cc:301] Initialize GrpcChannelCache for job worker -> {0 -> fmnist-worker-0.demo01.svc:2222, 1 -> fmnist-worker-1.demo01.svc:2222, 2 -> fmnist-worker-2.demo01.svc:2222}\r\n",
            "2021-03-20 22:57:26.803856: I tensorflow/core/distributed_runtime/rpc/grpc_server_lib.cc:405] Started server with target: grpc://fmnist-worker-1.demo01.svc:2222\r\n",
            "INFO:tensorflow:Enabled multi-worker collective ops with available devices: ['/job:worker/replica:0/task:1/device:CPU:0', '/job:worker/replica:0/task:1/device:XLA_CPU:0']\r\n",
            "INFO:tensorflow:Using MirroredStrategy with devices ('/job:worker/task:1',)\r\n",
            "INFO:tensorflow:MultiWorkerMirroredStrategy with cluster_spec = {'worker': ['fmnist-worker-0.demo01.svc:2222', 'fmnist-worker-1.demo01.svc:2222', 'fmnist-worker-2.demo01.svc:2222']}, task_type = 'worker', task_id = 1, num_workers = 3, local_devices = ('/job:worker/task:1',), communication = CollectiveCommunication.AUTO\r\n",
            "2021-03-20 22:57:26.854722: W tensorflow/core/platform/cloud/google_auth_provider.cc:184] All attempts to get a Google authentication bearer token failed, returning an empty token. Retrieving token from files failed with \"Not found: Could not locate the credentials file.\". Retrieving token from GCE failed with \"Failed precondition: Error executing an HTTP request: libcurl code 6 meaning 'Couldn't resolve host name', error details: Couldn't resolve host 'metadata'\".\r\n",
            "INFO:absl:Load pre-computed DatasetInfo (eg: splits, num examples,...) from GCS: mnist/3.0.1\r\n",
            "INFO:absl:Load dataset info from /tmp/tmpwojc8egetfds\r\n",
            "INFO:absl:Field info.citation from disk and from code do not match. Keeping the one from code.\r\n",
            "INFO:absl:Field info.splits from disk and from code do not match. Keeping the one from code.\r\n",
            "INFO:absl:Field info.module_name from disk and from code do not match. Keeping the one from code.\r\n",
            "INFO:absl:Generating dataset mnist (/root/tensorflow_datasets/mnist/3.0.1)\r\n",
            "INFO:absl:Dataset mnist is hosted on GCS. It will automatically be downloaded to your\r\n",
            "local data directory. If you'd instead prefer to read directly from our public\r\n",
            "GCS bucket (recommended if you're running on GCP), you can instead pass\r\n",
            "`try_gcs=True` to `tfds.load` or set `data_dir=gs://tfds-data/datasets`.\r\n",
            "\r\n",
            "Dl Completed...: 100%|██████████| 4/4 [00:00<00:00,  7.30 file/s]\r\n",
            "INFO:absl:Load dataset info from /root/tensorflow_datasets/mnist/3.0.1.incompleteT7NFIR\r\n",
            "INFO:absl:Field info.citation from disk and from code do not match. Keeping the one from code.\r\n",
            "INFO:absl:Field info.splits from disk and from code do not match. Keeping the one from code.\r\n",
            "INFO:absl:Field info.module_name from disk and from code do not match. Keeping the one from code.\r\n",
            "INFO:absl:Constructing tf.data.Dataset for split None, from /root/tensorflow_datasets/mnist/3.0.1\r\n"
          ],
          "name": "stdout"
        }
      ]
    },
    {
      "cell_type": "code",
      "metadata": {
        "id": "Vl5Ss5ag_LzM",
        "outputId": "e15dc425-3b52-4f37-b1c7-02a151ad188b"
      },
      "source": [
        "!kubectl -n demo01 delete tfjob fmnist"
      ],
      "execution_count": null,
      "outputs": [
        {
          "output_type": "stream",
          "text": [
            "tfjob.kubeflow.org \"fmnist\" deleted\r\n"
          ],
          "name": "stdout"
        }
      ]
    },
    {
      "cell_type": "markdown",
      "metadata": {
        "id": "6SD3m3bo_k8J"
      },
      "source": [
        "# Put all these files inside a Github repository"
      ]
    }
  ]
}